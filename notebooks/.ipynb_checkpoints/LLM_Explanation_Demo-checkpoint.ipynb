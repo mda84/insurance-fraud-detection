{
 "cells": [
  {
   "cell_type": "markdown",
   "id": "introduction",
   "metadata": {},
   "source": [
    "# LLM Explanation Demo\n",
    "\n",
    "This notebook demonstrates how to use a pre-trained language model (via the Hugging Face transformers pipeline) to generate an explanation for a vehicle claim. The sample claim data is passed to the function from our `src/llm_integration.py` module, and an explanation is generated."
   ]
  },
  {
   "cell_type": "code",
   "execution_count": 1,
   "id": "loose-bicycle",
   "metadata": {},
   "outputs": [],
   "source": [
    "import sys\n",
    "import os\n",
    "sys.path.append(os.path.abspath('..'))\n",
    "from src.llm_integration import generate_explanation"
   ]
  },
  {
   "cell_type": "code",
   "execution_count": 2,
   "id": "llm-code",
   "metadata": {},
   "outputs": [
    {
     "name": "stderr",
     "output_type": "stream",
     "text": [
      "Device set to use cpu\n",
      "Truncation was not explicitly activated but `max_length` is provided a specific value, please use `truncation=True` to explicitly truncate examples to max length. Defaulting to 'longest_first' truncation strategy. If you encode pairs of sequences (GLUE-style) with the tokenizer you can select this strategy more precisely by providing a specific strategy to `truncation`.\n",
      "Setting `pad_token_id` to `eos_token_id`:50256 for open-end generation.\n"
     ]
    },
    {
     "name": "stdout",
     "output_type": "stream",
     "text": [
      "Generated Explanation:\n",
      "You are an expert insurance fraud investigator. Analyze the following vehicle claim details carefully. Consider common fraud red flags such as inconsistencies between the vehicle's reported age and the policyholder's age, lack of a police report or witnesses, and any other anomalies in the claim. Provide a detailed and concise explanation for why this claim might be fraudulent.\n",
      "\n",
      "Claim Details: {'AgeOfVehicle': '3 years', 'AgeOfPolicyHolder': '26 to 30', 'NumberOfSuppliments': 'none', 'NumberOfCars': '1 vehicle', 'Year': '1994', 'PoliceReportFiled': 'No', 'WitnessPresent': 'No'}\n",
      "\n",
      "Explanation:\n",
      "\n",
      "You have a car that is reported to be 4 years old or older. You may be able to tell the difference between the age of the car and the age of the policyholder.\n",
      "\n",
      "You may be able to identify the vehicle's owner.\n",
      "\n",
      "You may be able to identify the vehicle's insurance company.\n",
      "\n",
      "You may be able to identify the vehicle's insurance policies.\n",
      "\n",
      "You may be able to identify the vehicle's policyholders.\n",
      "\n",
      "You may be able to identify the vehicle's insurance policyholders.\n",
      "\n",
      "You may be able to identify the vehicle's insurance policyholders.\n",
      "\n",
      "Claims that are not covered by a policy will be rejected.\n",
      "\n",
      "If a claim is rejected, the insurance company will deny the claim.\n"
     ]
    }
   ],
   "source": [
    "from src.llm_integration import generate_explanation\n",
    "\n",
    "# Define a sample claim data\n",
    "claim_data = {\n",
    "    'AgeOfVehicle': '3 years',\n",
    "    'AgeOfPolicyHolder': '26 to 30',\n",
    "    'NumberOfSuppliments': 'none',\n",
    "    'NumberOfCars': '1 vehicle',\n",
    "    'Year': '1994',\n",
    "    'PoliceReportFiled': 'No',\n",
    "    'WitnessPresent': 'No'\n",
    "}\n",
    "\n",
    "# Generate an explanation for the sample claim\n",
    "explanation = generate_explanation(claim_data)\n",
    "print('Generated Explanation:')\n",
    "print(explanation)"
   ]
  },
  {
   "cell_type": "code",
   "execution_count": 3,
   "id": "northern-snapshot",
   "metadata": {},
   "outputs": [
    {
     "name": "stdout",
     "output_type": "stream",
     "text": [
      "Generated Explanation:\n",
      "This claim shows several red flags that suggest potential fraud:\n",
      "\n",
      "1. Age Discrepancy: The vehicle is listed as \"3 years\" old, but the year is shown as \"1994\". This is a major inconsistency that immediately raises suspicion.\n",
      "\n",
      "2. No Police Report: The absence of a police report for a vehicle incident is concerning, as legitimate accidents typically involve police documentation.\n",
      "\n",
      "3. No Witnesses: The lack of witnesses, combined with no police report, makes the incident details harder to verify independently.\n",
      "\n",
      "4. Single Vehicle Incident: With only one vehicle involved and no witnesses or police report, there's limited third-party verification of the claim's circumstances.\n",
      "\n",
      "5. No Supplements:\n"
     ]
    }
   ],
   "source": [
    "from src.llm_integration import generate_explanation_anthropic\n",
    "\n",
    "# Define a sample claim data\n",
    "claim_data = {\n",
    "    'AgeOfVehicle': '3 years',\n",
    "    'AgeOfPolicyHolder': '26 to 30',\n",
    "    'NumberOfSuppliments': 'none',\n",
    "    'NumberOfCars': '1 vehicle',\n",
    "    'Year': '1994',\n",
    "    'PoliceReportFiled': 'No',\n",
    "    'WitnessPresent': 'No'\n",
    "}\n",
    "\n",
    "# Replace 'YOUR_ANTHROPIC_API_KEY' with your actual API key.\n",
    "api_key = \"***\"\n",
    "\n",
    "# Generate an explanation for the sample claim using Anthropic\n",
    "explanation = generate_explanation_anthropic(claim_data, api_key)\n",
    "print('Generated Explanation:')\n",
    "print(explanation)"
   ]
  },
  {
   "cell_type": "code",
   "execution_count": null,
   "id": "generous-grace",
   "metadata": {},
   "outputs": [],
   "source": []
  }
 ],
 "metadata": {
  "kernelspec": {
   "display_name": "Python 3 (ipykernel)",
   "language": "python",
   "name": "python3"
  },
  "language_info": {
   "codemirror_mode": {
    "name": "ipython",
    "version": 3
   },
   "file_extension": ".py",
   "mimetype": "text/x-python",
   "name": "python",
   "nbconvert_exporter": "python",
   "pygments_lexer": "ipython3",
   "version": "3.9.2"
  }
 },
 "nbformat": 4,
 "nbformat_minor": 5
}
